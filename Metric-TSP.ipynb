{
 "cells": [
  {
   "cell_type": "markdown",
   "metadata": {},
   "source": [
    "## MST approximation to TSP"
   ]
  },
  {
   "cell_type": "code",
   "execution_count": 1,
   "metadata": {},
   "outputs": [],
   "source": [
    "import numpy as np\n",
    "import pandas as pd\n",
    "import networkx as nx\n",
    "\n",
    "import matplotlib.pyplot as plt"
   ]
  },
  {
   "cell_type": "markdown",
   "metadata": {},
   "source": [
    "## Checks"
   ]
  },
  {
   "cell_type": "code",
   "execution_count": 31,
   "metadata": {},
   "outputs": [],
   "source": [
    "def is_fully_connected(G):\n",
    "    \"\"\"\n",
    "    returns true if the graph G is (a) undirected (b) is fully connected.\n",
    "    \"\"\"\n",
    "    N = G.number_of_nodes()\n",
    "    E = G.number_of_edges()\n",
    "    if isinstance(G,nx.Graph) and 2*E == N*(N-1):\n",
    "        return True\n",
    "    else:\n",
    "        return False"
   ]
  },
  {
   "cell_type": "markdown",
   "metadata": {},
   "source": [
    "## TSP via MST ~ factor 2 algorithm"
   ]
  },
  {
   "cell_type": "code",
   "execution_count": 15,
   "metadata": {},
   "outputs": [],
   "source": [
    "def drop_repeated(input_list):\n",
    "    \"\"\"\n",
    "    return a list omitting the repeated elements of input_list while maintaining the order of \n",
    "    elements in the list.\n",
    "    \"\"\"\n",
    "    output_list = []\n",
    "    for entry in input_list:\n",
    "        if entry in output_list:\n",
    "            pass\n",
    "        else:\n",
    "            output_list.append(entry)\n",
    "    return output_list\n",
    "\n",
    "def metric_mst_tsp(G,s):\n",
    "    \"\"\"\n",
    "    return a list of vertices of G representing an approximate Traveling Salesman Problem cycle\n",
    "    starting and ending at s. Uses an MST approximation.\n",
    "    G -- a fully connected undirected weighted graph where edge weights satisfy triangle inequality.\n",
    "    s -- a vertex in G\n",
    "    \"\"\"\n",
    "    T = nx.minimum_spanning_tree(G)\n",
    "    dfs_edges = list(nx.dfs_edges(T,source=s))\n",
    "    vertices = []\n",
    "    for e in dfs_edges:\n",
    "        vertices.append(e[0])\n",
    "        vertices.append(e[1])\n",
    "    tsp_path = drop_repeated(vertices)\n",
    "    tsp_path.append(s)\n",
    "    \n",
    "    return tsp_path"
   ]
  },
  {
   "cell_type": "markdown",
   "metadata": {},
   "source": [
    "## TSP via Christofides ~ factor 1.5 algorithm"
   ]
  },
  {
   "cell_type": "code",
   "execution_count": 16,
   "metadata": {},
   "outputs": [],
   "source": [
    "def find_max_weight(G):\n",
    "    \"\"\"\n",
    "    return the weight of the heaviest edge in G\n",
    "    \"\"\"\n",
    "    max_weight = 0\n",
    "    for edge in G.edges:\n",
    "        u,v = edge[0],edge[1]\n",
    "        if G[u][v]['weight'] > max_weight:\n",
    "            max_weight = G[u][v]['weight']\n",
    "    return max_weight\n",
    "\n",
    "def transform_graph_for_max_matching(G):\n",
    "    \"\"\"\n",
    "    returns a graph with modified edge weights such that a maximal matching on the \n",
    "    modified graph corresponds to a minimal matching on G\n",
    "    \"\"\"\n",
    "    max_weight = find_max_weight(G)\n",
    "    modified_graph = nx.Graph()\n",
    "    for edge in G.edges:\n",
    "        u,v = edge[0],edge[1]\n",
    "        wt = G[u][v]['weight']\n",
    "        modified_graph.add_edge(u,v,weight=max_weight-wt)\n",
    "    return modified_graph\n",
    "\n",
    "def min_weight_matching(G):\n",
    "    \"\"\"\n",
    "    Returns a set of edges representing a minimum weight matching.\n",
    "    Every node appears only once in a matching.\n",
    "    \"\"\"\n",
    "    modified_graph = transform_graph_for_max_matching(G)\n",
    "    min_matching = nx.max_weight_matching(modified_graph)\n",
    "    return min_matching\n",
    "\n",
    "def find_odd_degree_nodes(G):\n",
    "    \"\"\"\n",
    "    returns a list of vertices which have odd degree in graph G.\n",
    "    \"\"\"\n",
    "    degree = G.degree()\n",
    "    odd_nodes = []\n",
    "    for v in G.nodes:\n",
    "        if degree[v] % 2 == 0:\n",
    "            pass\n",
    "        else:\n",
    "            odd_nodes.append(v)\n",
    "    return odd_nodes\n",
    "\n",
    "def construct_fully_connected_subgraph(node_subset,G):\n",
    "    \"\"\"\n",
    "    return a graph with `node_subset` as the nodes. The graph is fully connected and uses the same edge\n",
    "    weight as in G.\n",
    "    \"\"\"\n",
    "    sub_graph = nx.Graph()\n",
    "    for u in node_subset:\n",
    "        for v in node_subset:\n",
    "            if u == v:\n",
    "                pass\n",
    "            else:\n",
    "                wt = G[u][v]['weight']\n",
    "                sub_graph.add_edge(u,v,weight=wt)\n",
    "    return sub_graph\n",
    "\n",
    "def add_specified_edges(G1,G2,edges):\n",
    "    \"\"\"\n",
    "    copy G2[edges] into G1\n",
    "    \"\"\"\n",
    "    for edge in edges:\n",
    "        u,v = edge[0],edge[1]\n",
    "        wt = G2[u][v]['weight']\n",
    "        G1.add_edge(u,v,weight=wt)\n",
    "\n",
    "def construct_eulerian_multigraph(G1,G2,edges):\n",
    "    \"\"\"\n",
    "    Construct a multigraph M:\n",
    "        (1) copy G1 into M\n",
    "        (2) copy specified edges of G2 into M\n",
    "    \"\"\"\n",
    "    eulerian_multigraph = nx.MultiGraph()\n",
    "    add_specified_edges(eulerian_multigraph,G1,G1.edges)\n",
    "    add_specified_edges(eulerian_multigraph,G2,edges)\n",
    "    return eulerian_multigraph\n",
    "\n",
    "def metric_christofides_tsp(G,s):\n",
    "    \"\"\"\n",
    "    return a list of vertices of G representing an approximate Traveling Salesman Problem cycle\n",
    "    starting and ending at s. Uses the Christofides approximation.\n",
    "    G -- a fully connected undirected weighted graph where edge weights satisfy triangle inequality.\n",
    "    s -- a vertex in G\n",
    "    \"\"\"\n",
    "    tree = nx.minimum_spanning_tree(G)\n",
    "    odd_nodes = find_odd_degree_nodes(tree)\n",
    "    sub_graph = construct_fully_connected_subgraph(odd_nodes,G)\n",
    "    min_matching_edges = min_weight_matching(sub_graph)\n",
    "    eulerian_graph = construct_eulerian_multigraph(tree,G,min_matching_edges)\n",
    "    circuit = nx.eulerian_circuit(eulerian_graph,s)\n",
    "    vertices = []\n",
    "    for edge in circuit:\n",
    "        vertices.append(edge[0])\n",
    "        vertices.append(edge[1])\n",
    "    christofides_tsp = drop_repeated(vertices)\n",
    "    christofides_tsp.append(s)\n",
    "    return christofides_tsp"
   ]
  },
  {
   "cell_type": "code",
   "execution_count": 36,
   "metadata": {},
   "outputs": [],
   "source": [
    "G = nx.Graph()\n",
    "G.add_edge(1,2,weight=2)\n",
    "G.add_edge(2,3,weight=1)\n",
    "G.add_edge(2,4,weight=1)\n",
    "G.add_edge(1,3,weight=1)\n",
    "G.add_edge(3,4,weight=2)\n",
    "G.add_edge(4,1,weight=1)"
   ]
  },
  {
   "cell_type": "code",
   "execution_count": 35,
   "metadata": {},
   "outputs": [
    {
     "data": {
      "text/plain": [
       "False"
      ]
     },
     "execution_count": 35,
     "metadata": {},
     "output_type": "execute_result"
    }
   ],
   "source": [
    "is_fully_connected(G)"
   ]
  },
  {
   "cell_type": "code",
   "execution_count": null,
   "metadata": {},
   "outputs": [],
   "source": []
  },
  {
   "cell_type": "code",
   "execution_count": null,
   "metadata": {},
   "outputs": [],
   "source": []
  }
 ],
 "metadata": {
  "@webio": {
   "lastCommId": null,
   "lastKernelId": null
  },
  "kernelspec": {
   "display_name": "Python 3",
   "language": "python",
   "name": "python3"
  },
  "language_info": {
   "codemirror_mode": {
    "name": "ipython",
    "version": 3
   },
   "file_extension": ".py",
   "mimetype": "text/x-python",
   "name": "python",
   "nbconvert_exporter": "python",
   "pygments_lexer": "ipython3",
   "version": "3.6.9"
  }
 },
 "nbformat": 4,
 "nbformat_minor": 2
}
