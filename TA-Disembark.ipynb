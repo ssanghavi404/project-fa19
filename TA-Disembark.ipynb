{
 "cells": [
  {
   "cell_type": "markdown",
   "metadata": {},
   "source": [
    "## Determine which dropoff point each TA gets off at"
   ]
  },
  {
   "cell_type": "code",
   "execution_count": 1,
   "metadata": {},
   "outputs": [],
   "source": [
    "import numpy as np\n",
    "import pandas as pd\n",
    "import networkx as nx\n",
    "import pickle\n",
    "\n",
    "import matplotlib.pyplot as plt"
   ]
  },
  {
   "cell_type": "code",
   "execution_count": 2,
   "metadata": {},
   "outputs": [],
   "source": [
    "G = nx.readwrite.gpickle.read_gpickle(\"graphstore/tempG.pkl\")"
   ]
  },
  {
   "cell_type": "code",
   "execution_count": 3,
   "metadata": {},
   "outputs": [],
   "source": [
    "with open('graphstore/dropoffnodes.pkl', 'rb') as f:\n",
    "    dropoffnodes = pickle.load(f)\n",
    "with open('graphstore/homes.pkl', 'rb') as f:\n",
    "    homes = pickle.load(f)"
   ]
  },
  {
   "cell_type": "code",
   "execution_count": 4,
   "metadata": {},
   "outputs": [],
   "source": [
    "def nearestDropoff(G,dropoff,homes):\n",
    "    \"\"\"\n",
    "    Returns a list representing the nearest dropoff point for each home\n",
    "    G - graph with weights specified as distances\n",
    "    dropoff - array of indices representing vertices on path of Car\n",
    "    homes - array of indices representing vertices which are TA homes\n",
    "    \"\"\"\n",
    "    nearest = []\n",
    "    for h in homes[1:-1]:\n",
    "        distance = [nx.shortest_path_length(G,h,d,weight='weight') for d in dropoff]\n",
    "        nearest.append(dropoff[np.argmin(distance)])\n",
    "    return nearest"
   ]
  },
  {
   "cell_type": "code",
   "execution_count": 5,
   "metadata": {},
   "outputs": [],
   "source": [
    "nearest = nearestDropoff(G,dropoffnodes,homes)"
   ]
  },
  {
   "cell_type": "code",
   "execution_count": 6,
   "metadata": {},
   "outputs": [],
   "source": [
    "# Create a random permutation of the given dropoff points.\n",
    "# This represents the path that the Car takes.\n",
    "# The first dropoff point is the Source (i.e. Soda), so we do not permute that point.\n",
    "path = np.append([dropoffnodes[0]], np.random.permutation(dropoffnodes[1:-1]))"
   ]
  },
  {
   "cell_type": "code",
   "execution_count": 7,
   "metadata": {},
   "outputs": [],
   "source": [
    "dropOrder = []\n",
    "for d in path:\n",
    "    dropAt = [i for i,x in enumerate(nearest) if x == d]\n",
    "    dropOrder.append(dropAt)"
   ]
  },
  {
   "cell_type": "code",
   "execution_count": 8,
   "metadata": {},
   "outputs": [
    {
     "data": {
      "text/plain": [
       "[[0, 3, 5, 6, 12, 14, 21, 22], [9, 15, 19], [], [10, 13], [2, 4, 16, 18, 20]]"
      ]
     },
     "execution_count": 8,
     "metadata": {},
     "output_type": "execute_result"
    }
   ],
   "source": [
    "dropOrder"
   ]
  },
  {
   "cell_type": "code",
   "execution_count": null,
   "metadata": {},
   "outputs": [],
   "source": []
  }
 ],
 "metadata": {
  "@webio": {
   "lastCommId": null,
   "lastKernelId": null
  },
  "kernelspec": {
   "display_name": "Python 3",
   "language": "python",
   "name": "python3"
  },
  "language_info": {
   "codemirror_mode": {
    "name": "ipython",
    "version": 3
   },
   "file_extension": ".py",
   "mimetype": "text/x-python",
   "name": "python",
   "nbconvert_exporter": "python",
   "pygments_lexer": "ipython3",
   "version": "3.7.4"
  }
 },
 "nbformat": 4,
 "nbformat_minor": 2
}
