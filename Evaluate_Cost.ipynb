{
 "cells": [
  {
   "cell_type": "markdown",
   "metadata": {},
   "source": [
    "Evaluate Cost function — given a solution, evaluate the cost of the solution (2/3 * distance for each TA walking + distance for each TA driving)"
   ]
  },
  {
   "cell_type": "code",
   "execution_count": 59,
   "metadata": {},
   "outputs": [],
   "source": [
    "import numpy as np\n",
    "import pickle\n",
    "import networkx as nx\n",
    "from clustering.funcs import k_cluster"
   ]
  },
  {
   "cell_type": "code",
   "execution_count": 60,
   "metadata": {},
   "outputs": [],
   "source": [
    "def eval_cost(G, path, dropoffs):\n",
    "    '''\n",
    "    eval_cost(nx.graph, np.ndarray, dict) -> int\n",
    "    path is a list of integers that we follow in the car \n",
    "    dropOffs is a dictionary (int -> [home, home, ...] )\n",
    "    '''\n",
    "    assert isinstance(G, nx.Graph) , \"G must be a graph\"\n",
    "    assert isinstance(path, np.ndarray) , \"path must be an array of integers\"\n",
    "    assert isinstance(dropoffs, dict) , \"dropoffs must be a dictionary mapping node to homes\"\n",
    "    \n",
    "    cost = 0\n",
    "    prevNode = path[0]\n",
    "    for node in path[1:]:\n",
    "        cost += 2/3 * G[prevNode][node]['weight'] # weight of the edge from previous to next node\n",
    "        prevNode = node\n",
    "        \n",
    "        for home in dropoffs[node]:\n",
    "            cost += nx.astar_path_length(G, node, home)\n",
    "                \n",
    "    return cost"
   ]
  },
  {
   "cell_type": "code",
   "execution_count": 61,
   "metadata": {},
   "outputs": [
    {
     "name": "stdout",
     "output_type": "stream",
     "text": [
      "\n",
      "{99: [], 98: [], 15: [], 20: [20], 21: [21], 27: [28], 24: [], 25: [25], 23: [26, 23], 32: [], 38: [], 29: [41, 39, 33], 31: [42], 4: [], 9: [9], 2: [6, 0, 8, 7, 5], 3: [], 14: [], 11: [], 12: [12], 22: [], 92: [92], 96: [97, 94, 91, 96, 83, 93, 85, 88, 82], 45: [69, 53], 55: [62, 55, 74, 68, 57], 76: [76], 77: [81], 78: [], 47: [47, 66, 49], 73: [], 67: [67, 61, 52, 43, 50, 51, 63, 44, 71], 19: [], 16: [16], 18: [18]}\n",
      "819.1325419136008\n"
     ]
    }
   ],
   "source": [
    "# Testing on graph\n",
    "\n",
    "size = 100\n",
    "\n",
    "G = nx.readwrite.gpickle.read_gpickle('./inputGraphs/' + str(size) + '/tempG.pkl')\n",
    "with open('./inputgraphs/' + str(size) + '/homes.pkl', 'rb') as f: homes = pickle.load(f)\n",
    "\n",
    "#write_input_file(G, homes, str(size) + \".in\")\n",
    "\n",
    "with open('./inputgraphs/' + str(size) + '/where.pkl', 'rb') as f: dropOffs = pickle.load(f)\n",
    "with open('./inputgraphs/' + str(size) + '/final_path.pkl', 'rb') as f: path = pickle.load(f)\n",
    "\n",
    "# write_output_file(path, dropOffs, indexToName, str(size) + \".out\")\n",
    "\n",
    "print(G)\n",
    "print(dropOffs)\n",
    "\n",
    "print(eval_cost(G, path, dropOffs))\n"
   ]
  },
  {
   "cell_type": "code",
   "execution_count": null,
   "metadata": {},
   "outputs": [],
   "source": []
  },
  {
   "cell_type": "code",
   "execution_count": null,
   "metadata": {},
   "outputs": [],
   "source": []
  }
 ],
 "metadata": {
  "kernelspec": {
   "display_name": "Python 3",
   "language": "python",
   "name": "python3"
  },
  "language_info": {
   "codemirror_mode": {
    "name": "ipython",
    "version": 3
   },
   "file_extension": ".py",
   "mimetype": "text/x-python",
   "name": "python",
   "nbconvert_exporter": "python",
   "pygments_lexer": "ipython3",
   "version": "3.6.5"
  }
 },
 "nbformat": 4,
 "nbformat_minor": 2
}
