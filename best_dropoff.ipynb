{
 "cells": [
  {
   "cell_type": "code",
   "execution_count": 8,
   "metadata": {},
   "outputs": [
    {
     "name": "stdout",
     "output_type": "stream",
     "text": [
      "Importing Jupyter notebook from Graph_File_IO.ipynb\n"
     ]
    }
   ],
   "source": [
    "import numpy as np\n",
    "import pandas as pd\n",
    "import networkx as nx\n",
    "import pickle\n",
    "\n",
    "import nbimporter\n",
    "import Graph_File_IO as gfio\n",
    "\n",
    "import matplotlib.pyplot as plt"
   ]
  },
  {
   "cell_type": "code",
   "execution_count": 14,
   "metadata": {},
   "outputs": [],
   "source": [
    "def best_dropoff(G, subset):\n",
    "    '''best_dropoff(nx.graph, list) --> int\n",
    "    Returns the best dropoff point given a graph and a list of integers representing the homes\n",
    "    G is a networkx graph\n",
    "    Subset is list of nodes in a cluster from which we want to find the best drop-off point\n",
    "    '''\n",
    "    sum_distances = {}\n",
    "    for vertex in subset:\n",
    "        vertex_distances = nx.algorithms.shortest_paths.generic.shortest_path_length(G, source=vertex, target=None, weight='weight')\n",
    "        for key in vertex_distances:\n",
    "            sum_distances[key] = sum_distances.get(key, 0) + vertex_distances[key]\n",
    "    \n",
    "    bestDist = float('inf')\n",
    "    bestNode = 0\n",
    "    for node in sum_distances:\n",
    "        if sum_distances[node] < bestDist:\n",
    "            bestDist = sum_distances[node]\n",
    "            bestNode = node\n",
    "            \n",
    "    return bestNode"
   ]
  },
  {
   "cell_type": "code",
   "execution_count": 20,
   "metadata": {},
   "outputs": [
    {
     "name": "stdout",
     "output_type": "stream",
     "text": [
      "[30, 27, 16, 18, 40, 34, 11, 45, 22, 23, 0, 33, 43, 14]\n",
      "\n",
      "46\n"
     ]
    }
   ],
   "source": [
    "G, homes, locToIndex = gfio.graph_from_input(\"./inputs/1_50.in\")\n",
    "\n",
    "subset = homes[12:52]\n",
    "print(subset)\n",
    "print(G)\n",
    "\n",
    "print(best_dropoff(G, subset))"
   ]
  },
  {
   "cell_type": "code",
   "execution_count": null,
   "metadata": {},
   "outputs": [],
   "source": []
  },
  {
   "cell_type": "code",
   "execution_count": null,
   "metadata": {},
   "outputs": [],
   "source": []
  }
 ],
 "metadata": {
  "kernelspec": {
   "display_name": "Python 3",
   "language": "python",
   "name": "python3"
  },
  "language_info": {
   "codemirror_mode": {
    "name": "ipython",
    "version": 3
   },
   "file_extension": ".py",
   "mimetype": "text/x-python",
   "name": "python",
   "nbconvert_exporter": "python",
   "pygments_lexer": "ipython3",
   "version": "3.6.5"
  }
 },
 "nbformat": 4,
 "nbformat_minor": 2
}
