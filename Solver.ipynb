{
 "cells": [
  {
   "cell_type": "code",
   "execution_count": 1,
   "metadata": {},
   "outputs": [],
   "source": [
    "import networkx as nx\n",
    "\n",
    "import input_functions as inp\n",
    "from clustering.funcs import k_cluster\n",
    "from input_functions.funcs import create_new_graph"
   ]
  },
  {
   "cell_type": "code",
   "execution_count": 2,
   "metadata": {},
   "outputs": [],
   "source": [
    "G = nx.Graph()\n",
    "G.add_edge(1,2,weight=1)\n",
    "G.add_edge(2,3,weight=2)\n",
    "G.add_edge(2,4,weight=1)\n",
    "G.add_edge(1,5,weight=2)\n",
    "G.add_edge(5,6,weight=1)\n",
    "G.add_edge(5,7,weight=3)"
   ]
  },
  {
   "cell_type": "code",
   "execution_count": 3,
   "metadata": {},
   "outputs": [],
   "source": [
    "homes = [3,4,6,7]\n",
    "homes_subgraph, node_map, edge_to_path_map = create_new_graph(G,homes)"
   ]
  },
  {
   "cell_type": "code",
   "execution_count": 4,
   "metadata": {},
   "outputs": [
    {
     "name": "stdout",
     "output_type": "stream",
     "text": [
      "0   1   3.0\n",
      "0   2   6.0\n",
      "0   3   8.0\n",
      "1   2   5.0\n",
      "1   3   7.0\n",
      "2   3   4.0\n"
     ]
    }
   ],
   "source": [
    "for e in homes_subgraph.edges:\n",
    "    u,v = e[0],e[1]\n",
    "    print(u,\" \",v,\" \",homes_subgraph[u][v]['weight'])"
   ]
  },
  {
   "cell_type": "code",
   "execution_count": 6,
   "metadata": {},
   "outputs": [
    {
     "data": {
      "text/plain": [
       "{0: [0, 1], 2: [2], 3: [3]}"
      ]
     },
     "execution_count": 6,
     "metadata": {},
     "output_type": "execute_result"
    }
   ],
   "source": []
  },
  {
   "cell_type": "code",
   "execution_count": null,
   "metadata": {},
   "outputs": [],
   "source": []
  }
 ],
 "metadata": {
  "kernelspec": {
   "display_name": "Python 3",
   "language": "python",
   "name": "python3"
  },
  "language_info": {
   "codemirror_mode": {
    "name": "ipython",
    "version": 3
   },
   "file_extension": ".py",
   "mimetype": "text/x-python",
   "name": "python",
   "nbconvert_exporter": "python",
   "pygments_lexer": "ipython3",
   "version": "3.6.9"
  }
 },
 "nbformat": 4,
 "nbformat_minor": 2
}
