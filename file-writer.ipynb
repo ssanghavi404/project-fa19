{
 "cells": [
  {
   "cell_type": "code",
   "execution_count": 1,
   "metadata": {},
   "outputs": [],
   "source": [
    "import pickle\n",
    "import numpy as np\n",
    "import pandas as pd\n",
    "\n",
    "import os\n",
    "\n",
    "from graph_file_io import graph_from_input, write_output_from_pickle"
   ]
  },
  {
   "cell_type": "code",
   "execution_count": 17,
   "metadata": {},
   "outputs": [],
   "source": [
    "outputfilebase = './outputs/final_outputs/'\n",
    "inputfilebase = './inputs/'\n",
    "\n",
    "#check to make sure we have an output for every input\n",
    "inputs = os.listdir(inputfilebase)\n",
    "try:\n",
    "    inputs.remove('.ipynb_checkpoints') #get rid of .ipython checkpoints\n",
    "except ValueError:\n",
    "    \"do nothing, .ipynb_checkpoints not in list\"\n",
    "for inp in inputs:\n",
    "    if len(inp.split('_'))==1: #then this does not have a group number\n",
    "        size = inp[:-3]\n",
    "    else:\n",
    "        size = inp.split('_')[1][:-3]\n",
    "    picklefile = './outputs/'+size + '/'+inp[:-3] + '.pickle'\n",
    "    inputfile = inputfilebase+inp\n",
    "    outputfile = outputfilebase+inp[:-3]+'.out'\n",
    "    write_output_from_pickle(inputfile, outputfile, picklefile)"
   ]
  },
  {
   "cell_type": "code",
   "execution_count": 21,
   "metadata": {},
   "outputs": [],
   "source": [
    "#let's check to make sure that each input has an output\n",
    "outputs = os.listdir(outputfilebase)\n",
    "try:\n",
    "    outputs.remove('.ipynb_checkpoints')\n",
    "except ValueError:\n",
    "    \"do nothing, .ipynb_checkpoints not in list\"\n",
    "outputsset = set(outputs)\n",
    "for inp in inputs:\n",
    "    if inp[:-3]+'.out' not in outputsset:\n",
    "        raise ValueError(inp, 'does not have a .out file')"
   ]
  },
  {
   "cell_type": "code",
   "execution_count": null,
   "metadata": {},
   "outputs": [],
   "source": []
  }
 ],
 "metadata": {
  "kernelspec": {
   "display_name": "Python 3",
   "language": "python",
   "name": "python3"
  },
  "language_info": {
   "codemirror_mode": {
    "name": "ipython",
    "version": 3
   },
   "file_extension": ".py",
   "mimetype": "text/x-python",
   "name": "python",
   "nbconvert_exporter": "python",
   "pygments_lexer": "ipython3",
   "version": "3.6.8"
  }
 },
 "nbformat": 4,
 "nbformat_minor": 2
}
