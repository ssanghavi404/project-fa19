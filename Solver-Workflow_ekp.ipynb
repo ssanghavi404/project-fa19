{
 "cells": [
  {
   "cell_type": "code",
   "execution_count": 1,
   "metadata": {},
   "outputs": [],
   "source": [
    "import networkx as nx\n",
    "import numpy as np\n",
    "\n",
    "import input_functions as inp\n",
    "import tsp_routines\n",
    "from clustering.funcs import k_cluster\n",
    "from clustering.funcs import best_dropoff\n",
    "from input_functions.funcs import create_new_graph"
   ]
  },
  {
   "cell_type": "code",
   "execution_count": 2,
   "metadata": {},
   "outputs": [],
   "source": [
    "def graph_from_input(filename):\n",
    "    '''graph_from_input(str) --> nx.graph G, np.ndarray[int] homes, dict locToIndex \n",
    "    Returns a graph created by reading the input file, with integer vertex labels\n",
    "    Returns list of the home indices\n",
    "    Returns a map from integer to the name associated with that node'''\n",
    "    with open(filename, 'r') as f:\n",
    "        G = nx.Graph()\n",
    "        \n",
    "        locToIndex = {} # maps location name to its index number\n",
    "        homes = []\n",
    "        lines = f.readlines()\n",
    "        \n",
    "        numLocations = int(lines[0])\n",
    "        numTAs = int(lines[1])\n",
    "        locations = lines[2].split()\n",
    "    \n",
    "        i = 0\n",
    "        assert len(locations) == numLocations, \"Number of locations must match specified value\"\n",
    "        for loc in locations:\n",
    "            G.add_node(i)\n",
    "            locToIndex[loc] = i\n",
    "            i += 1\n",
    "            \n",
    "        TAhomes = lines[3].split()\n",
    "        assert len(TAhomes) == numTAs, \"Number of TA homes must match specified value\"\n",
    "        for home in TAhomes:\n",
    "            homes.append(locToIndex[home])\n",
    "        \n",
    "        homes.insert(0, locToIndex[lines[4].strip()])\n",
    "        \n",
    "        row = 0\n",
    "        for line in lines[5:]:\n",
    "            line = line.split()\n",
    "            for col in range(len(line)):\n",
    "            \n",
    "                if line[col] != 'x':  \n",
    "                    G.add_edge(row, col)\n",
    "                    weight = float(line[col])\n",
    "                    G[row][col]['weight'] = weight\n",
    "            row += 1\n",
    "            \n",
    "        indexToLoc = {v: k for k, v in locToIndex.items()}\n",
    "        return G, homes, indexToLoc"
   ]
  },
  {
   "cell_type": "code",
   "execution_count": 3,
   "metadata": {},
   "outputs": [],
   "source": [
    "def map_dict_entries(input_dict,nodemapper):\n",
    "    \"\"\"\n",
    "    maps the keys and values of the input dict using the nodemapper dict.\n",
    "    \"\"\"\n",
    "    output_dict = dict()\n",
    "    for key in input_dict.keys():\n",
    "        mapped_key = nodemapper[key]\n",
    "        output_dict.update({mapped_key:[]})\n",
    "        for vertex in input_dict[key]:\n",
    "            output_dict[mapped_key].append(nodemapper[vertex])\n",
    "    return output_dict\n",
    "\n",
    "def add_vertex_to_clusters(clusters,vertex):\n",
    "    \"\"\"\n",
    "    add the given vertex to each cluster.\n",
    "    Input:\n",
    "    clusters - dict where the keys are vertices which are cluster centers and the values are a list of \n",
    "                vertices belonging to this cluster\n",
    "    vertex - the vertex to be added to each list in `clusters`\n",
    "    \"\"\"\n",
    "    for key in clusters:\n",
    "        clusters[key].append(vertex)\n",
    "        \n",
    "def get_dropoff_vertices(clusters):\n",
    "    best_dropoffs = []\n",
    "    for key in clusters:\n",
    "        dropoff = best_dropoff(G,clusters[key])\n",
    "        best_dropoffs.append(dropoff)\n",
    "    return best_dropoffs\n",
    "        \n",
    "def solve_by_clustering(graph,homes,source,num_clusters):\n",
    "    \"\"\"\n",
    "    return the route to be followed by the car as it drops off TAs.\n",
    "    Inputs:\n",
    "    graph - input graph\n",
    "    homes - list of vertices in `graph` that are marked as homes\n",
    "    source - vertex in `graph` that is the start and end of the path followed by the car\n",
    "    num_clusters - the number of clusters to be used to group the homes together\n",
    "    \"\"\"\n",
    "    homes_subgraph = tsp_routines.complete_shortest_path_subgraph(graph,homes)\n",
    "    home_clusters = k_cluster(homes_subgraph,num_clusters)\n",
    "    # The source vertex is added to each of the clusters before determining the best dropoff location.\n",
    "    # This is done so that vertices that are closer to the source are given higher preference as dropoff points.\n",
    "    add_vertex_to_clusters(home_clusters,source)\n",
    "    dropoff_vertices = get_dropoff_vertices(home_clusters)\n",
    "    # Add the source to the dropoff vertices\n",
    "    dropoff_vertices.append(source)\n",
    "    # Get rid of any repeating entries in the dropoff vertices\n",
    "    dropoff_vertices = list(set(dropoff_vertices))\n",
    "    # Construct the fully connected sub-graph with the dropoff vertices \n",
    "    # on which TSP is computed\n",
    "    dropoff_subgraph = tsp_routines.complete_shortest_path_subgraph(graph,dropoff_vertices)\n",
    "    tsp_route = tsp_routines.metric_mst_tsp(dropoff_subgraph,source)\n",
    "    return tsp_route\n",
    "    "
   ]
  },
  {
   "cell_type": "code",
   "execution_count": 4,
   "metadata": {},
   "outputs": [],
   "source": [
    "G = nx.Graph()\n",
    "G.add_edge(1,2,weight=1)\n",
    "G.add_edge(2,3,weight=2)\n",
    "G.add_edge(2,4,weight=1)\n",
    "G.add_edge(1,5,weight=2)\n",
    "G.add_edge(5,6,weight=1)\n",
    "G.add_edge(5,7,weight=3)\n",
    "nx.draw(G)"
   ]
  },
  {
   "cell_type": "code",
   "execution_count": 35,
   "metadata": {},
   "outputs": [
    {
     "name": "stdout",
     "output_type": "stream",
     "text": [
      "[21, 6, 29, 21]\n",
      "[21, 47, 19, 46, 24, 7, 23, 31, 37, 32, 42, 34, 36, 1, 27, 2, 11, 17, 25, 9, 6, 13, 29, 8, 10, 41]\n"
     ]
    },
    {
     "data": {
      "text/plain": [
       "(951152593.6022999,\n",
       " {47: 6,\n",
       "  19: 29,\n",
       "  46: 21,\n",
       "  24: 6,\n",
       "  7: 21,\n",
       "  23: 29,\n",
       "  31: 6,\n",
       "  37: 29,\n",
       "  32: 6,\n",
       "  42: 6,\n",
       "  34: 6,\n",
       "  36: 29,\n",
       "  1: 6,\n",
       "  27: 6,\n",
       "  2: 6,\n",
       "  11: 21,\n",
       "  17: 6,\n",
       "  25: 6,\n",
       "  9: 21,\n",
       "  6: 6,\n",
       "  13: 29,\n",
       "  29: 29,\n",
       "  8: 21,\n",
       "  10: 21,\n",
       "  41: 21})"
      ]
     },
     "execution_count": 35,
     "metadata": {},
     "output_type": "execute_result"
    }
   ],
   "source": [
    "tsp_route = solve_by_clustering(G,homes,homes[0],2)\n",
    "print(tsp_route)\n",
    "print(homes)\n",
    "check_cost(G, tsp_route, homes[1:])"
   ]
  },
  {
   "cell_type": "code",
   "execution_count": 23,
   "metadata": {},
   "outputs": [],
   "source": [
    "def check_cost(G, route, homes):\n",
    "    carcost = 0\n",
    "    workingnode = route[0]\n",
    "    for node in route[1:]:\n",
    "        carcost+=(2/3)*nx.dijkstra_path_length(G, workingnode, node)\n",
    "        workingnode = node\n",
    "        \n",
    "    ta_cost = 0\n",
    "    where_get_off = dict()\n",
    "    for home in homes:\n",
    "        local_cost = np.inf\n",
    "        for node in route:\n",
    "            l = nx.dijkstra_path_length(G, home, node)\n",
    "            if l < local_cost:\n",
    "                local_cost = l\n",
    "                bestnode = node\n",
    "            else:\n",
    "                continue\n",
    "        ta_cost += local_cost\n",
    "        where_get_off.update({home:bestnode})\n",
    "    return carcost, where_get_off"
   ]
  },
  {
   "cell_type": "code",
   "execution_count": 49,
   "metadata": {},
   "outputs": [],
   "source": [
    "def cluster_solver(filename,kiterations = 'all'):\n",
    "    \"\"\"returns the best route and its cost and where each ta gets off, found by decreasing nclusters from nhomes to 2\"\"\"\n",
    "    G, homes, node_to_name_map = graph_from_input(filename)\n",
    "    k = len(homes) #how many clusters initially\n",
    "    cost = np.inf\n",
    "    out_route = []\n",
    "    if kiterations == 'all':\n",
    "        krange = range(k-2)\n",
    "    else:\n",
    "        krange = range(kiterations)\n",
    "    for i in krange:\n",
    "        #assumed that homes[0] is the source\n",
    "        tsp_route = solve_by_clustering(G,homes,homes[0],k)\n",
    "        tempcost, where_get_off = check_cost(G, tsp_route, homes[1:])\n",
    "        if tempcost<cost:\n",
    "            cost = tempcost\n",
    "            out_route = tsp_route\n",
    "            dropoffloc_dict = where_get_off\n",
    "        k-=1\n",
    "    return out_route, cost, dropoffloc_dict"
   ]
  },
  {
   "cell_type": "code",
   "execution_count": 50,
   "metadata": {},
   "outputs": [],
   "source": [
    "filename = './inputs/20_50.in'\n",
    "G, homes, node_to_name_map = graph_from_input(filename)"
   ]
  },
  {
   "cell_type": "code",
   "execution_count": 51,
   "metadata": {},
   "outputs": [
    {
     "name": "stdout",
     "output_type": "stream",
     "text": [
      "inf\n",
      "5163591867.49498\n",
      "5064304275.037486\n",
      "4974400048.216312\n",
      "4755108181.049013\n",
      "4536325976.580492\n",
      "4445506719.046267\n",
      "4163429173.991713\n",
      "3876440371.4332137\n",
      "3585447008.3529534\n",
      "3283230284.5359993\n",
      "2926330038.7796664\n",
      "2578235644.721813\n",
      "2408551533.0003533\n",
      "2070039113.2766333\n",
      "1940722349.6940198\n"
     ]
    }
   ],
   "source": [
    "route, cost, dropoffs = cluster_solver(filename, kiterations='all')"
   ]
  },
  {
   "cell_type": "code",
   "execution_count": 53,
   "metadata": {},
   "outputs": [
    {
     "name": "stdout",
     "output_type": "stream",
     "text": [
      "[21, 9, 29, 17, 21] 1308256321.067593\n"
     ]
    }
   ],
   "source": [
    "print(route, cost)"
   ]
  },
  {
   "cell_type": "code",
   "execution_count": null,
   "metadata": {},
   "outputs": [],
   "source": []
  }
 ],
 "metadata": {
  "kernelspec": {
   "display_name": "Python 3",
   "language": "python",
   "name": "python3"
  },
  "language_info": {
   "codemirror_mode": {
    "name": "ipython",
    "version": 3
   },
   "file_extension": ".py",
   "mimetype": "text/x-python",
   "name": "python",
   "nbconvert_exporter": "python",
   "pygments_lexer": "ipython3",
   "version": "3.6.8"
  }
 },
 "nbformat": 4,
 "nbformat_minor": 2
}
