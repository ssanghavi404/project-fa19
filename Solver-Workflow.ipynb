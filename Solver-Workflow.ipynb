{
 "cells": [
  {
   "cell_type": "code",
   "execution_count": null,
   "metadata": {},
   "outputs": [],
   "source": [
    "import networkx as nx\n",
    "\n",
    "import input_functions as inp\n",
    "import tsp_routines\n",
    "from clustering.funcs import k_cluster\n",
    "from clustering.funcs import best_dropoff\n",
    "from input_functions.funcs import create_new_graph"
   ]
  },
  {
   "cell_type": "code",
   "execution_count": 7,
   "metadata": {},
   "outputs": [],
   "source": [
    "def map_dict_entries(input_dict,nodemapper):\n",
    "    \"\"\"\n",
    "    maps the keys and values of the input dict using the nodemapper dict.\n",
    "    \"\"\"\n",
    "    output_dict = dict()\n",
    "    for key in input_dict.keys():\n",
    "        mapped_key = nodemapper[key]\n",
    "        output_dict.update({mapped_key:[]})\n",
    "        for vertex in input_dict[key]:\n",
    "            output_dict[mapped_key].append(nodemapper[vertex])\n",
    "    return output_dict\n",
    "\n",
    "def add_vertex_to_clusters(clusters,vertex):\n",
    "    \"\"\"\n",
    "    add the given vertex to each cluster.\n",
    "    Input:\n",
    "    clusters - dict where the keys are vertices which are cluster centers and the values are a list of \n",
    "                vertices belonging to this cluster\n",
    "    vertex - the vertex to be added to each list in `clusters`\n",
    "    \"\"\"\n",
    "    for key in clusters:\n",
    "        clusters[key].append(vertex)\n",
    "        \n",
    "def get_dropoff_vertices(clusters):\n",
    "    best_dropoffs = []\n",
    "    for key in clusters:\n",
    "        dropoff = best_dropoff(G,clusters[key])\n",
    "        best_dropoffs.append(dropoff)\n",
    "    return best_dropoffs\n",
    "        \n",
    "def solve_by_clustering(graph,homes,source,num_clusters):\n",
    "    \"\"\"\n",
    "    return the route to be followed by the car as it drops off TAs.\n",
    "    Inputs:\n",
    "    graph - input graph\n",
    "    homes - list of vertices in `graph` that are marked as homes\n",
    "    source - vertex in `graph` that is the start and end of the path followed by the car\n",
    "    num_clusters - the number of clusters to be used to group the homes together\n",
    "    \"\"\"\n",
    "    homes_subgraph = tsp_routines.complete_shortest_path_subgraph(graph,homes)\n",
    "    home_clusters = k_cluster(homes_subgraph,num_clusters)\n",
    "    # The source vertex is added to each of the clusters before determining the best dropoff location.\n",
    "    # This is done so that vertices that are closer to the source are given higher preference as dropoff points.\n",
    "    add_vertex_to_clusters(home_clusters,source)\n",
    "    dropoff_vertices = get_dropoff_vertices(home_clusters)\n",
    "    # Add the source to the dropoff vertices\n",
    "    dropoff_vertices.append(source)\n",
    "    # Get rid of any repeating entries in the dropoff vertices\n",
    "    dropoff_vertices = list(set(dropoff_vertices))\n",
    "    # Construct the fully connected sub-graph with the dropoff vertices \n",
    "    # on which TSP is computed\n",
    "    dropoff_subgraph = tsp_routines.complete_shortest_path_subgraph(graph,dropoff_vertices)\n",
    "    tsp_route = tsp_routines.metric_mst_tsp(dropoff_subgraph,source)\n",
    "    return tsp_route\n",
    "    "
   ]
  },
  {
   "cell_type": "code",
   "execution_count": 8,
   "metadata": {},
   "outputs": [
    {
     "data": {
      "image/png": "[encoded data removed]",
      "text/plain": [
       "<matplotlib.figure.Figure at 0x113e7b160>"
      ]
     },
     "metadata": {},
     "output_type": "display_data"
    }
   ],
   "source": [
    "G = nx.Graph()\n",
    "G.add_edge(1,2,weight=1)\n",
    "G.add_edge(2,3,weight=2)\n",
    "G.add_edge(2,4,weight=1)\n",
    "G.add_edge(1,5,weight=2)\n",
    "G.add_edge(5,6,weight=1)\n",
    "G.add_edge(5,7,weight=3)\n",
    "nx.draw(G)"
   ]
  },
  {
   "cell_type": "code",
   "execution_count": 9,
   "metadata": {},
   "outputs": [
    {
     "name": "stdout",
     "output_type": "stream",
     "text": [
      "[1, 2, 5, 1]\n"
     ]
    }
   ],
   "source": [
    "homes = [3,4,6,7]\n",
    "tsp_route = solve_by_clustering(G,homes,1,2)\n",
    "print(tsp_route)"
   ]
  },
  {
   "cell_type": "code",
   "execution_count": null,
   "metadata": {},
   "outputs": [],
   "source": []
  }
 ],
 "metadata": {
  "kernelspec": {
   "display_name": "Python 3",
   "language": "python",
   "name": "python3"
  },
  "language_info": {
   "codemirror_mode": {
    "name": "ipython",
    "version": 3
   },
   "file_extension": ".py",
   "mimetype": "text/x-python",
   "name": "python",
   "nbconvert_exporter": "python",
   "pygments_lexer": "ipython3",
   "version": "3.6.9"
  }
 },
 "nbformat": 4,
 "nbformat_minor": 2
}
