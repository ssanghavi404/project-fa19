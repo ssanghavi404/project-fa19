{
 "cells": [
  {
   "cell_type": "code",
   "execution_count": 30,
   "metadata": {},
   "outputs": [],
   "source": [
    "import pandas as pd\n",
    "import numpy as np\n",
    "import networkx as nx\n",
    "import matplotlib.pyplot as plt\n",
    "\n",
    "import input_functions as inp\n",
    "from input_functions.funcs import connect_graph"
   ]
  },
  {
   "cell_type": "code",
   "execution_count": 136,
   "metadata": {},
   "outputs": [],
   "source": [
    "k = 20\n",
    "centers = []\n",
    "for n in range(k):\n",
    "    centers.append(((np.random.rand()-.5)*100, (np.random.rand()-.5)*100))\n",
    "    \n",
    "xspans, yspans = [], []\n",
    "for n in range(k):\n",
    "    xspans.append(np.random.rand()*10)\n",
    "    yspans.append(np.random.rand()*10)"
   ]
  },
  {
   "cell_type": "code",
   "execution_count": 137,
   "metadata": {},
   "outputs": [],
   "source": [
    "from input_functions.funcs import generate_clustered_graph"
   ]
  },
  {
   "cell_type": "code",
   "execution_count": 138,
   "metadata": {},
   "outputs": [],
   "source": [
    "numberofnodes = 200\n",
    "nodes = [int(x) for x in np.linspace(0, numberofnodes-1, numberofnodes)]\n",
    "nhomes = 1 #nhomes +1\n",
    "homes = np.random.choice(nodes, nhomes, replace = False)\n",
    "\n",
    "G, v, dropoff = generate_clustered_graph(k, numberofnodes, centers,xspans, yspans, maxconnections = 15)\n",
    "dropoff = np.concatenate((np.array([homes[0]]), dropoff))"
   ]
  },
  {
   "cell_type": "code",
   "execution_count": 141,
   "metadata": {},
   "outputs": [
    {
     "data": {
      "image/png": "[encoded data removed]",
      "text/plain": [
       "<Figure size 1440x720 with 2 Axes>"
      ]
     },
     "metadata": {
      "needs_background": "light"
     },
     "output_type": "display_data"
    }
   ],
   "source": [
    "fig, axs = plt.subplots(ncols = 2, figsize = (20,10))\n",
    "\n",
    "ax = axs[0]\n",
    "\n",
    "pos = dict()\n",
    "for i, vi in enumerate(v):\n",
    "    pos.update({i:vi})\n",
    "#nx.draw_networkx_nodes(G, pos, ax = ax, alpha = .5, node_size = 50, s = .2)\n",
    "#nx.draw_networkx_edges(G, pos, ax = ax)\n",
    "\n",
    "clusters = k_cluster(G, 20)\n",
    "from matplotlib import cm\n",
    "\n",
    "colors = [cm.magma(x) for x in np.linspace(0,1,len(clusters))]\n",
    "\n",
    "for i, clu in enumerate(clusters):\n",
    "    ax.scatter(v[clusters[clu]][:,0], v[clusters[clu]][:,1], color = colors[i])\n",
    "#ax.scatter(v[dropoff][:,0], v[dropoff][:,1], color = 'red', s = 500)"
   ]
  },
  {
   "cell_type": "code",
   "execution_count": 1,
   "metadata": {},
   "outputs": [],
   "source": [
    "def k_cluster(G, k):\n",
    "    \"\"\"returns k clusters from the graph G via the method described in class:\n",
    "    \n",
    "    randomly selects a starting vertex and then places k vertices at points furthest away from all cluster centers. \n",
    "    then assigns all remaining points to the cluster center closest to each point. \n",
    "    \n",
    "    ideas for improvement:\n",
    "    1. don't assign all points to clusters, choose some radius to which, if a point is that far away from a cluster center,\n",
    "        then it is assigned to that cluster otherwise none. \n",
    "    2. some metric to guess how many clusters, look at degree of clustering possibly\n",
    "    \"\"\"\n",
    "\n",
    "    used = set()\n",
    "    startnode = np.random.choice(G.nodes, 1)[0]\n",
    "    used.update({startnode})\n",
    "    lens = nx.shortest_path_length(G, startnode, weight = 'weight')\n",
    "\n",
    "    nused = 1\n",
    "    for j in range(k-1):\n",
    "        mind = dict()\n",
    "        for node in G.nodes:\n",
    "            if node in used:\n",
    "                continue\n",
    "            #for each node, find the min distance to the used nodes. then take the max of this put this in a new cluster\n",
    "            ltoused = [nx.dijkstra_path_length(G, node, nodex) for nodex in used]\n",
    "            mind.update({node:min(ltoused)})\n",
    "        #key of the furtherest away i.e. the node furthest away\n",
    "        newnode = max(mind, key=mind.get)\n",
    "        used.update({newnode})\n",
    "        nused+=1\n",
    "\n",
    "    out = dict()\n",
    "    for u in used:\n",
    "        out.update({u:[u,]})\n",
    "    #now put all nodes in appropriate cluster:\n",
    "    for node in G.nodes:\n",
    "        l=nx.shortest_path_length(G, node, weight = 'weight')\n",
    "        d = np.inf\n",
    "        for u in used:\n",
    "            le = l[u]\n",
    "            if le < d:\n",
    "                d = le\n",
    "                clustercenter = u\n",
    "        out[clustercenter].append(node)\n",
    "\n",
    "    return out"
   ]
  },
  {
   "cell_type": "code",
   "execution_count": 120,
   "metadata": {},
   "outputs": [
    {
     "data": {
      "text/plain": [
       "{3: [3, 0, 1, 2, 3, 4],\n",
       " 19: [19, 5, 6, 7, 8, 9, 10, 11, 12, 13, 14, 15, 16, 17, 18, 19]}"
      ]
     },
     "execution_count": 120,
     "metadata": {},
     "output_type": "execute_result"
    }
   ],
   "source": [
    "k_cluster(G, 2)"
   ]
  }
 ],
 "metadata": {
  "kernelspec": {
   "display_name": "Python 3",
   "language": "python",
   "name": "python3"
  },
  "language_info": {
   "codemirror_mode": {
    "name": "ipython",
    "version": 3
   },
   "file_extension": ".py",
   "mimetype": "text/x-python",
   "name": "python",
   "nbconvert_exporter": "python",
   "pygments_lexer": "ipython3",
   "version": "3.6.8"
  }
 },
 "nbformat": 4,
 "nbformat_minor": 2
}
